{
 "cells": [
  {
   "cell_type": "code",
   "execution_count": 2,
   "metadata": {},
   "outputs": [],
   "source": [
    "Float = Sys.WORD_SIZE == 64 ? Float64 : Float32;"
   ]
  },
  {
   "cell_type": "code",
   "execution_count": 9,
   "metadata": {},
   "outputs": [],
   "source": [
    "mutable struct BloomFilter\n",
    "    setSize::Int             # size of the original set\n",
    "    falsePositiveProb::Float # probability of false positive\n",
    "    hashFuncsNumber::Int     # number of hash functions\n",
    "    hashFunc::Function       # hash function to encode the probabilistic \"belongs to\" relation\n",
    "    bitArray::Vector{Bool}   # \"the\" bloom filter\n",
    "    BloomFilter(n, p, hF) = optimalBloomFilter(n, p, hF)\n",
    "end\n",
    "\n",
    "function optimalBloomFilter(setSize::Int, falsePositiveProb::Float, hashFunc::Function)\n",
    "    n = setSize\n",
    "    p = falsePositiveProb\n",
    "    \n",
    "    hF = hashFunc\n",
    "    \n",
    "    m = -n*log(p)/log(2)^2\n",
    "    k = -log(2,p)\n",
    "    \n",
    "    bitArray = falses(trunc(Int, m) + 1)\n",
    "    \n",
    "    return BloomFilter(n, p, trunc(Int, k), hF, bitArray)\n",
    "end\n",
    "\n",
    "function add!(bf::BloomFilter, str::String)\n",
    "    for i in bf.hashFunc(bf, str)\n",
    "        bf.bitArray[i] = true\n",
    "    end\n",
    "end\n",
    "\n",
    "# this result is conclusive only if it is false, \n",
    "# when true the element may or may not be in the set\n",
    "function belongsTo(bf::BloomFilter, str::String)::Bool\n",
    "    isElement = true\n",
    "    \n",
    "    for i in bf.hashFunc(bf, str)\n",
    "        isElement &= bf.bitArray[i]\n",
    "    end\n",
    "    \n",
    "    return isElement\n",
    "end\n",
    ";"
   ]
  },
  {
   "cell_type": "code",
   "execution_count": 10,
   "metadata": {},
   "outputs": [],
   "source": [
    "function simplestHash(bf::BloomFilter, str::String)::Vector{Int}\n",
    "    m, = size(bf.bitArray)\n",
    "    k = bf.hashFuncsNumber\n",
    "    ret = zeros(k)\n",
    "    \n",
    "    for i=1:k\n",
    "        ret[i] = (hash(str, hash(i)) % m) + 1\n",
    "    end\n",
    "    \n",
    "    return ret\n",
    "end\n",
    "\n",
    "function kmHash(bf::BloomFilter, str::String)::Vector{Int}\n",
    "    h1 = hash(\"1\"*str)\n",
    "    h2 = hash(\"2\"*str)\n",
    "    \n",
    "    k = bf.hashFuncsNumber\n",
    "    ret = zeros(k)\n",
    "    \n",
    "    for i=1:k\n",
    "        ret[i] = (h1 + i*h2 % m) + 1\n",
    "    end\n",
    "    \n",
    "    return ret\n",
    "end\n",
    ";"
   ]
  },
  {
   "cell_type": "code",
   "execution_count": 11,
   "metadata": {},
   "outputs": [],
   "source": [
    "# theoretical upper bound for false positive probability \n",
    "# of a Bloom filter\n",
    "function worstTheoreticalFP(bf::BloomFilter)::Float\n",
    "    m,= size(bf.bitArray)\n",
    "    n = bf.setSize\n",
    "    k = bf.hashFuncsNumber\n",
    "    \n",
    "    return (1 - exp(-k*(n + 0.5)/(m-1)))^k\n",
    "end\n",
    ";"
   ]
  },
  {
   "cell_type": "code",
   "execution_count": 6,
   "metadata": {},
   "outputs": [],
   "source": [
    "using CSV"
   ]
  },
  {
   "cell_type": "code",
   "execution_count": 18,
   "metadata": {},
   "outputs": [
    {
     "ename": "MethodError",
     "evalue": "MethodError: no method matching BloomFilter(::Int64, ::Float64, ::Int64, ::typeof(simplestHash), ::BitArray{1})\nClosest candidates are:\n  BloomFilter(::Any, ::Any, ::Any) at In[9]:7",
     "output_type": "error",
     "traceback": [
      "MethodError: no method matching BloomFilter(::Int64, ::Float64, ::Int64, ::typeof(simplestHash), ::BitArray{1})\nClosest candidates are:\n  BloomFilter(::Any, ::Any, ::Any) at In[9]:7",
      "",
      "Stacktrace:",
      " [1] optimalBloomFilter(::Int64, ::Float64, ::Function) at .\\In[9]:21",
      " [2] BloomFilter(::Int64, ::Float64, ::Function) at .\\In[9]:7",
      " [3] top-level scope at In[18]:9"
     ]
    }
   ],
   "source": [
    "csv_filename = \"Shakespeare_data.csv\"\n",
    "csv_file = CSV.File(csv_filename)\n",
    "\n",
    "n = length(csv_file)\n",
    "p = 0.01\n",
    "\n",
    "simpleHashFunc = simplestHash\n",
    "kmHashFunc = kmHash\n",
    "\n",
    "simpleBF = BloomFilter(n, p, simpleHashFunc)\n",
    "kmBF = BloomFilter(n, p, kmHashFunc)\n",
    ";"
   ]
  },
  {
   "cell_type": "code",
   "execution_count": 8,
   "metadata": {},
   "outputs": [
    {
     "ename": "UndefVarError",
     "evalue": "UndefVarError: simpleBF not defined",
     "output_type": "error",
     "traceback": [
      "UndefVarError: simpleBF not defined",
      "",
      "Stacktrace:",
      " [1] top-level scope at In[8]:1"
     ]
    }
   ],
   "source": [
    "typeof(simpleBF)"
   ]
  },
  {
   "cell_type": "code",
   "execution_count": null,
   "metadata": {},
   "outputs": [],
   "source": []
  },
  {
   "cell_type": "code",
   "execution_count": null,
   "metadata": {},
   "outputs": [],
   "source": []
  },
  {
   "cell_type": "code",
   "execution_count": null,
   "metadata": {},
   "outputs": [],
   "source": []
  },
  {
   "cell_type": "code",
   "execution_count": null,
   "metadata": {},
   "outputs": [],
   "source": []
  },
  {
   "cell_type": "markdown",
   "metadata": {},
   "source": [
    "Useful Links\n",
    "---\n",
    "\n",
    "* https://sagi.io/2017/07/bloom-filters-for-the-perplexed/\n",
    "* https://github.com/johnmyleswhite/BloomFilters.jl/blob/master/src/bloom-filter.jl\n",
    "* https://en.wikipedia.org/wiki/Bloom_filter#Optimal_number_of_hash_functions\n",
    "* https://www.eecs.harvard.edu/~michaelm/postscripts/rsa2008.pdf\n",
    "* https://github.com/JuliaLang/IJulia.jl/issues/636\n",
    "* http://juliadata.github.io/CSV.jl/stable/\n",
    "\n",
    "* http://www.jesse-anderson.com/2011/10/a-few-million-monkeys-randomly-recreate-every-work-of-shakespeare/"
   ]
  },
  {
   "cell_type": "code",
   "execution_count": null,
   "metadata": {},
   "outputs": [],
   "source": []
  }
 ],
 "metadata": {
  "kernelspec": {
   "display_name": "Julia 1.0.2",
   "language": "julia",
   "name": "julia-1.0"
  },
  "language_info": {
   "file_extension": ".jl",
   "mimetype": "application/julia",
   "name": "julia",
   "version": "1.0.2"
  }
 },
 "nbformat": 4,
 "nbformat_minor": 2
}
